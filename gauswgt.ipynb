{
 "cells": [
  {
   "cell_type": "code",
   "execution_count": 1,
   "id": "46fffdd6",
   "metadata": {},
   "outputs": [],
   "source": [
    "# Path to Netcdf files\n",
    "from netCDF4 import Dataset\n",
    "import numpy as np\n",
    "import matplotlib.pyplot as plt\n",
    "from scipy.interpolate import griddata\n",
    "import cartopy.crs as ccrs\n",
    "import cartopy.feature as cfeature\n",
    "\n"
   ]
  },
  {
   "cell_type": "code",
   "execution_count": null,
   "id": "9e451b29",
   "metadata": {},
   "outputs": [],
   "source": [
    "path2='/work/ab0246/a270092/runtime/awicm3-master/make_grid_T1/run_20000101-20000101/work/'\n",
    "\n",
    "grids=Dataset(path2+'/grids.nc')\n",
    "masks=Dataset(path2+'/masks.nc')\n",
    "\n",
    "# Loading data\n",
    "lons = grids.variables['feom.lon'][0]\n",
    "lats = grids.variables['feom.lat'][0]\n",
    "\n",
    "data_oifs=lats"
   ]
  },
  {
   "cell_type": "code",
   "execution_count": null,
   "id": "01e45dff",
   "metadata": {},
   "outputs": [],
   "source": [
    "# create a scatter plot of latitude and longitude\n",
    "fig, ax = plt.subplots(figsize=(24, 18))\n",
    "\n",
    "ax = plt.scatter(lons, lats, c=data_oifs, cmap='cool', alpha=0.8, s=1)\n",
    "\n",
    "# add a color bar legend to the plot\n",
    "plt.colorbar()\n",
    "\n",
    "# set the x-axis and y-axis labels\n",
    "plt.xlabel('Longitude')\n",
    "plt.ylabel('Latitude')\n",
    "\n",
    "# set the plot title\n",
    "plt.title('Latitudes')\n",
    "\n",
    "\n",
    "# save the plot to a PNG file\n",
    "#plt.savefig('heat_swo.png',dpi=1000)"
   ]
  }
 ],
 "metadata": {
  "kernelspec": {
   "display_name": "Python 3 (ipykernel)",
   "language": "python",
   "name": "python3"
  },
  "language_info": {
   "codemirror_mode": {
    "name": "ipython",
    "version": 3
   },
   "file_extension": ".py",
   "mimetype": "text/x-python",
   "name": "python",
   "nbconvert_exporter": "python",
   "pygments_lexer": "ipython3",
   "version": "3.9.7"
  }
 },
 "nbformat": 4,
 "nbformat_minor": 5
}
